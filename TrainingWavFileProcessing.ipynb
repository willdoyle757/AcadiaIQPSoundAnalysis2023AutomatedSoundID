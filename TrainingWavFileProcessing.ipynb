{
  "nbformat": 4,
  "nbformat_minor": 0,
  "metadata": {
    "colab": {
      "provenance": [],
      "gpuType": "T4"
    },
    "kernelspec": {
      "name": "python3",
      "display_name": "Python 3"
    },
    "language_info": {
      "name": "python"
    },
    "accelerator": "GPU"
  },
  "cells": [
    {
      "cell_type": "code",
      "source": [
        "!pip install pydub\n",
        "!pip install ffmpeg\n",
        "\n",
        "from scipy import signal\n",
        "import librosa\n",
        "import IPython.display as ipd\n",
        "from scipy.io import wavfile\n",
        "import numpy as np\n",
        "import os\n",
        "import wave\n",
        "import pylab\n",
        "import sys\n",
        "import math\n",
        "import pandas as pd\n",
        "import csv\n",
        "import matplotlib.pyplot as plt"
      ],
      "metadata": {
        "id": "NGha5esjWyGi"
      },
      "execution_count": null,
      "outputs": []
    },
    {
      "cell_type": "code",
      "source": [
        "#Connects to your google drive\n",
        "from google.colab import drive\n",
        "drive.mount('/content/drive')"
      ],
      "metadata": {
        "colab": {
          "base_uri": "https://localhost:8080/"
        },
        "id": "bWDoNNY0VlxC",
        "outputId": "48c89b59-83bc-4caa-877d-3486c53000ff"
      },
      "execution_count": null,
      "outputs": [
        {
          "output_type": "stream",
          "name": "stdout",
          "text": [
            "Mounted at /content/drive\n"
          ]
        }
      ]
    },
    {
      "cell_type": "code",
      "source": [
        "#Path for CSV where the clipped audio information will be put\n",
        "audioCSVPath = '/content/drive/MyDrive/Datasets/SoundRecog/Natural_Sound_Dataset/AudioTrainingDataSet/AudioTrainingSheet.csv'"
      ],
      "metadata": {
        "id": "QZuq8f2iW9G5"
      },
      "execution_count": null,
      "outputs": []
    },
    {
      "cell_type": "markdown",
      "source": [],
      "metadata": {
        "id": "7nJ2Z5J6j8eK"
      }
    },
    {
      "cell_type": "code",
      "source": [
        "audiocsv = pd.read_csv(audioCSVPath)"
      ],
      "metadata": {
        "id": "dJaZoGBPaRa1"
      },
      "execution_count": null,
      "outputs": []
    },
    {
      "cell_type": "code",
      "source": [
        "audiocsv['target'].unique()"
      ],
      "metadata": {
        "id": "kuVxkacSaRgW",
        "colab": {
          "base_uri": "https://localhost:8080/"
        },
        "outputId": "226b9071-54fb-47df-cf76-211eaf5b4e58"
      },
      "execution_count": null,
      "outputs": [
        {
          "output_type": "execute_result",
          "data": {
            "text/plain": [
              "array([ 0, 14, 36, 19, 30, 34,  9, 22, 48, 41, 47, 31, 17, 45,  8, 15, 46,\n",
              "       37, 32, 16, 25,  4,  3, 27, 43, 12, 40, 29, 10,  7, 26,  6, 44, 23,\n",
              "       20, 49, 24, 39, 28, 18,  2, 35, 38, 21,  1, 11, 42,  5, 33, 13, 51])"
            ]
          },
          "metadata": {},
          "execution_count": 7
        }
      ]
    },
    {
      "cell_type": "code",
      "source": [
        "#Locations of Audio Data in a google drive\n",
        "#Edit based on your paths\n",
        "\n",
        "#Raw training audio locations\n",
        "RAW_AUDIO_DIRS = ['/content/drive/MyDrive/Datasets/SoundRecog/Natural_Sound_Dataset/RawAcadiaAudio/Cadillac',\n",
        "                  '/content/drive/MyDrive/Datasets/SoundRecog/Natural_Sound_Dataset/RawAcadiaAudio/Pinehill',\n",
        "                  '/content/drive/MyDrive/Datasets/SoundRecog/Natural_Sound_Dataset/RawAcadiaAudio/Bernard',\n",
        "                  '/content/drive/MyDrive/Datasets/SoundRecog/Natural_Sound_Dataset/RawAcadiaAudio/Gilmore',\n",
        "                  '/content/drive/MyDrive/Datasets/SoundRecog/Natural_Sound_Dataset/RawAcadiaAudio/Northeast']\n",
        "\n",
        "\n",
        "#Location for where the clipped audio will be stored\n",
        "CLIP_AUDIO_DIR = '/content/drive/MyDrive/Datasets/SoundRecog/Natural_Sound_Dataset/AudioTrainingDataSet/audiofiles/'\n"
      ],
      "metadata": {
        "id": "0BCfqeRFua8o"
      },
      "execution_count": null,
      "outputs": []
    },
    {
      "cell_type": "code",
      "source": [
        "#If you create a new csv and refill it with data be sure to uncomment and run this cell to create a new line in the CSV file otherwise it will creat formatting issues\n",
        "#with open(audioCSVPath, 'a') as f:\n",
        "#   f.write('\\n')"
      ],
      "metadata": {
        "id": "9-BiIZdsKzR_"
      },
      "execution_count": null,
      "outputs": []
    },
    {
      "cell_type": "code",
      "source": [
        "\n",
        "#helper function for finding location from file name\n",
        "def LocationHelper(filename):\n",
        "  if (filename[0] == 'C'):\n",
        "    return 'cadillac', 6\n",
        "  elif (filename[0] == 'P'):\n",
        "    return 'pinehill', 7\n",
        "  elif (filename[0] == 'B'):\n",
        "    return 'bernard', 8\n",
        "  elif (filename[0] == 'G'):\n",
        "    return 'gilmore', 9\n",
        "  elif (filename[0] == 'N'):\n",
        "    return 'northeast', 10\n",
        "\n",
        "#helper for finding the category name from the target\n",
        "def CategoryHelper(target):\n",
        "  cat = audiocsv['category'].loc[audiocsv['target'] == target]\n",
        "  return cat.unique()[0]\n",
        "\n",
        "#helper for finding target from file name\n",
        "def TargetHelper(filename):\n",
        "  temp = filename.split('-')\n",
        "  return temp[1], int(temp[2])"
      ],
      "metadata": {
        "id": "bLYuGJfHhfU4"
      },
      "execution_count": null,
      "outputs": []
    },
    {
      "cell_type": "code",
      "source": [
        "#helper for splitting audio into chunks\n",
        "def SplitAudio(filename, samples, sample_chunks, sample_rate):\n",
        "\n",
        "  df = pd.DataFrame(columns=['filename','fold', 'target', 'category', 'src_file', 'take', 'location'])\n",
        "\n",
        "  location, fold = LocationHelper(filename)\n",
        "  src, target = TargetHelper(filename)\n",
        "  category = CategoryHelper(target)\n",
        "  take = 0\n",
        "\n",
        "  for i in range(math.floor(samples.size / sample_chunks)):\n",
        "    frame_a = i  * sample_chunks\n",
        "    frame_b = (i+1) * sample_chunks\n",
        "    take = i\n",
        "    #print(take)\n",
        "    filename = str(fold) + '-' + src + '-' + chr(take + 65) + '-' + str(target)\n",
        "    if not os.path.exists(CLIP_AUDIO_DIR + location + '/' + filename + '.wav'):\n",
        "      print(chr(take + 65))\n",
        "      wavfile.write(CLIP_AUDIO_DIR + location + '/' + filename + '.wav', sample_rate, samples[frame_a:frame_b])\n",
        "      df.loc[take] = [filename, fold, target, category, src, chr(take + 65), location]\n",
        "\n",
        "\n",
        "  df.to_csv(audioCSVPath, mode='a',header=False, index=False)\n"
      ],
      "metadata": {
        "id": "yNTTPYdFgwGO"
      },
      "execution_count": null,
      "outputs": []
    },
    {
      "cell_type": "code",
      "source": [
        "\n",
        "#samples, sample_rate = librosa.load(RAW_AUDIO_DIRS[0] + '/' + 'C-0622093957-47.wav')\n",
        "#sample_chunks = 5 * sample_rate\n",
        "\n",
        "#SplitAudio('C-0622093957-47', samples, sample_chunks, sample_rate)"
      ],
      "metadata": {
        "id": "-FQAZ_kH0PlS"
      },
      "execution_count": null,
      "outputs": []
    },
    {
      "cell_type": "code",
      "source": [
        "#Processes an individual locations training data\n",
        "def ProcessAudioDir(fileLoc):\n",
        "  #change based on the desired size of clipped training data in seconds\n",
        "  time = 5\n",
        "\n",
        "  for filename in os.listdir(fileLoc):\n",
        "      if \"wav\" in filename:\n",
        "        samples, sample_rate = librosa.load(fileLoc + '/' + filename)\n",
        "        sample_chunks = time * sample_rate\n",
        "\n",
        "        filenamenowav = filename.split('.')[0]\n",
        "        SplitAudio(filenamenowav, samples, sample_chunks, sample_rate)\n",
        "\n"
      ],
      "metadata": {
        "id": "fFrorBwWxfaM"
      },
      "execution_count": null,
      "outputs": []
    },
    {
      "cell_type": "code",
      "source": [
        "#ProcessAudioDir('/content/drive/MyDrive/Datasets/SoundRecog/Natural_Sound_Dataset/RawAcadiaAudio/Pinehill')"
      ],
      "metadata": {
        "id": "Or9Stteo4nSH"
      },
      "execution_count": null,
      "outputs": []
    },
    {
      "cell_type": "code",
      "source": [
        "#function to process all raw acadia training data\n",
        "def ProcessAllAcadiaData(RAW_AUDIO_DIRS):\n",
        "  for dir in RAW_AUDIO_DIRS:\n",
        "    print(dir)\n",
        "    ProcessAudioDir(dir)\n",
        "  print('Done Processing')"
      ],
      "metadata": {
        "id": "EOy0morGzAwd"
      },
      "execution_count": null,
      "outputs": []
    },
    {
      "cell_type": "code",
      "source": [
        "#Run this to process all raw audio files into the training data\n",
        "ProcessAllAcadiaData(RAW_AUDIO_DIRS)"
      ],
      "metadata": {
        "id": "uXn1gMdG3-jb"
      },
      "execution_count": null,
      "outputs": []
    }
  ]
}